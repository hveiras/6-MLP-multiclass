{
 "cells": [
  {
   "cell_type": "markdown",
   "metadata": {},
   "source": [
    "# Dataset\n",
    "- 11,228 cables de Reuters\n",
    "- 46 topicos"
   ]
  },
  {
   "cell_type": "code",
   "execution_count": 1,
   "metadata": {},
   "outputs": [
    {
     "name": "stderr",
     "output_type": "stream",
     "text": [
      "Using TensorFlow backend.\n"
     ]
    }
   ],
   "source": [
    "from keras.datasets import reuters\n",
    "\n",
    "(x_train, y_train), (x_test, y_test) = reuters.load_data(path=\"reuters.npz\",\n",
    "                                                         num_words=None,\n",
    "                                                         skip_top=0,\n",
    "                                                         maxlen=None,\n",
    "                                                         test_split=0.2,\n",
    "                                                         seed=113,\n",
    "                                                         start_char=1,\n",
    "                                                         oov_char=2,\n",
    "                                                         index_from=3)"
   ]
  },
  {
   "cell_type": "code",
   "execution_count": 2,
   "metadata": {},
   "outputs": [],
   "source": [
    "word_index = reuters.get_word_index(path=\"reuters_word_index.json\")"
   ]
  },
  {
   "cell_type": "code",
   "execution_count": 3,
   "metadata": {},
   "outputs": [
    {
     "name": "stdout",
     "output_type": "stream",
     "text": [
      "Cantidad de articulos: 8982\n",
      "Ejemplo de 2 articulos:\n",
      "[ list([1, 27595, 28842, 8, 43, 10, 447, 5, 25, 207, 270, 5, 3095, 111, 16, 369, 186, 90, 67, 7, 89, 5, 19, 102, 6, 19, 124, 15, 90, 67, 84, 22, 482, 26, 7, 48, 4, 49, 8, 864, 39, 209, 154, 6, 151, 6, 83, 11, 15, 22, 155, 11, 15, 7, 48, 9, 4579, 1005, 504, 6, 258, 6, 272, 11, 15, 22, 134, 44, 11, 15, 16, 8, 197, 1245, 90, 67, 52, 29, 209, 30, 32, 132, 6, 109, 15, 17, 12])\n",
      " list([1, 3267, 699, 3434, 2295, 56, 16784, 7511, 9, 56, 3906, 1073, 81, 5, 1198, 57, 366, 737, 132, 20, 4093, 7, 19261, 49, 2295, 13415, 1037, 3267, 699, 3434, 8, 7, 10, 241, 16, 855, 129, 231, 783, 5, 4, 587, 2295, 13415, 30625, 775, 7, 48, 34, 191, 44, 35, 1795, 505, 17, 12])]\n",
      "Ejemplo de etiquetas:\n",
      "[3 4]\n"
     ]
    }
   ],
   "source": [
    "print('Cantidad de articulos:', x_train.shape[0])\n",
    "print('Ejemplo de 2 articulos:')\n",
    "print(x_train[:2])\n",
    "print('Ejemplo de etiquetas:')\n",
    "print(y_train[:2])"
   ]
  },
  {
   "cell_type": "code",
   "execution_count": 28,
   "metadata": {},
   "outputs": [],
   "source": [
    "from collections import Counter"
   ]
  },
  {
   "cell_type": "code",
   "execution_count": 29,
   "metadata": {},
   "outputs": [
    {
     "data": {
      "text/plain": [
       "Counter({0: 55,\n",
       "         1: 432,\n",
       "         2: 74,\n",
       "         3: 3159,\n",
       "         4: 1949,\n",
       "         5: 17,\n",
       "         6: 48,\n",
       "         7: 16,\n",
       "         8: 139,\n",
       "         9: 101,\n",
       "         10: 124,\n",
       "         11: 390,\n",
       "         12: 49,\n",
       "         13: 172,\n",
       "         14: 26,\n",
       "         15: 20,\n",
       "         16: 444,\n",
       "         17: 39,\n",
       "         18: 66,\n",
       "         19: 549,\n",
       "         20: 269,\n",
       "         21: 100,\n",
       "         22: 15,\n",
       "         23: 41,\n",
       "         24: 62,\n",
       "         25: 92,\n",
       "         26: 24,\n",
       "         27: 15,\n",
       "         28: 48,\n",
       "         29: 19,\n",
       "         30: 45,\n",
       "         31: 39,\n",
       "         32: 32,\n",
       "         33: 11,\n",
       "         34: 50,\n",
       "         35: 10,\n",
       "         36: 49,\n",
       "         37: 19,\n",
       "         38: 19,\n",
       "         39: 24,\n",
       "         40: 36,\n",
       "         41: 30,\n",
       "         42: 13,\n",
       "         43: 21,\n",
       "         44: 12,\n",
       "         45: 18})"
      ]
     },
     "execution_count": 29,
     "metadata": {},
     "output_type": "execute_result"
    }
   ],
   "source": [
    "Counter(y_train)"
   ]
  },
  {
   "cell_type": "code",
   "execution_count": 4,
   "metadata": {},
   "outputs": [
    {
     "name": "stdout",
     "output_type": "stream",
     "text": [
      "Imprimo los indices de palabras:\n",
      "4546\n",
      "10997\n",
      "20676\n"
     ]
    }
   ],
   "source": [
    "print('Imprimo los indices de palabras:')\n",
    "print(word_index['wood'])\n",
    "print(word_index['refunding'])\n",
    "print(word_index['passsengers'])"
   ]
  },
  {
   "cell_type": "code",
   "execution_count": 5,
   "metadata": {},
   "outputs": [
    {
     "data": {
      "text/plain": [
       "array([ 3,  4,  3, ..., 25,  3, 25])"
      ]
     },
     "execution_count": 5,
     "metadata": {},
     "output_type": "execute_result"
    }
   ],
   "source": [
    "y_train"
   ]
  },
  {
   "cell_type": "code",
   "execution_count": 11,
   "metadata": {},
   "outputs": [
    {
     "name": "stdout",
     "output_type": "stream",
     "text": [
      "[nltk_data] Downloading package reuters to\n",
      "[nltk_data]     /Users/julianganzabal/nltk_data...\n",
      "[nltk_data]   Package reuters is already up-to-date!\n"
     ]
    },
    {
     "data": {
      "text/plain": [
       "True"
      ]
     },
     "execution_count": 11,
     "metadata": {},
     "output_type": "execute_result"
    }
   ],
   "source": [
    "# conda install nltk\n",
    "from nltk.corpus import reuters \n",
    "import nltk \n",
    "nltk.download('reuters')"
   ]
  },
  {
   "cell_type": "code",
   "execution_count": 15,
   "metadata": {},
   "outputs": [],
   "source": [
    "category_docs = reuters.fileids(\"acq\");"
   ]
  },
  {
   "cell_type": "code",
   "execution_count": 24,
   "metadata": {},
   "outputs": [
    {
     "name": "stdout",
     "output_type": "stream",
     "text": [
      "['SUMITOMO', 'BANK', 'AIMS', 'AT', 'QUICK', 'RECOVERY', 'FROM', 'MERGER', 'Sumitomo', 'Bank', 'Ltd', '&', 'lt', ';', 'SUMI', '.', 'T', '>', 'is', 'certain', 'to', 'lose', 'its', 'status', 'as', 'Japan', \"'\", 's', 'most', 'profitable', 'bank', 'as', 'a', 'result', 'of', 'its', 'merger', 'with', 'the', 'Heiwa', 'Sogo', 'Bank', ',', 'financial', 'analysts', 'said', '.', 'Osaka', '-', 'based']\n"
     ]
    }
   ],
   "source": [
    "document_id = category_docs[0]\n",
    "document_words = reuters.words(category_docs[0]);\n",
    "print(document_words[:50])"
   ]
  },
  {
   "cell_type": "code",
   "execution_count": 27,
   "metadata": {},
   "outputs": [
    {
     "name": "stdout",
     "output_type": "stream",
     "text": [
      "['acq', 'alum', 'barley', 'bop', 'carcass', 'castor-oil', 'cocoa', 'coconut', 'coconut-oil', 'coffee']\n",
      "90 categories\n"
     ]
    }
   ],
   "source": [
    "categories = reuters.categories();\n",
    "print(categories[:10])\n",
    "print(str(len(categories)) + \" categories\");"
   ]
  },
  {
   "cell_type": "code",
   "execution_count": 12,
   "metadata": {},
   "outputs": [
    {
     "name": "stdout",
     "output_type": "stream",
     "text": [
      "10788 documents\n",
      "7769 total train documents\n",
      "3019 total test documents\n",
      "90 categories\n",
      "['SUMITOMO', 'BANK', 'AIMS', 'AT', 'QUICK', 'RECOVERY', ...]\n",
      "SUMITOMO BANK AIMS AT QUICK RECOVERY FROM MERGER\n",
      "  Sumitomo Bank Ltd &lt;SUMI.T> is certain to\n",
      "  lose its status as Japan's most profitable bank as a result of\n",
      "  its merger with the Heiwa Sogo Bank, financial analysts said.\n",
      "      Osaka-based Sumitomo, with desposits of around 23.9\n",
      "  trillion yen, merged with Heiwa Sogo, a small, struggling bank\n",
      "  with an estimated 1.29 billion dlrs in unrecoverable loans, in\n",
      "  October.\n",
      "      But despite the link-up, Sumitomo President Koh Komatsu\n",
      "  told Reuters he is confident his bank can quickly regain its\n",
      "  position.\n",
      "      \"We'll be back in position in first place within three\n",
      "  years,\" Komatsu said in an interview.\n",
      "      He said that while the merger will initially reduce\n",
      "  Sumitomo's profitability and efficiency, it will vastly expand\n",
      "  Sumitomo's branch network in the Tokyo metropolitan area where\n",
      "  it has been relatively weak.\n",
      "      But financial analysts are divided on whether and how\n",
      "  quickly the gamble will pay off.\n",
      "      Some said Sumitomo may have paid too much for Heiwa Sogo in\n",
      "  view of the smaller bank's large debts. Others argue the merger\n",
      "  was more cost effective than creating a comparable branch\n",
      "  network from scratch.\n",
      "      The analysts agreed the bank was aggressive. It has\n",
      "  expanded overseas, entered the lucrative securities business\n",
      "  and geared up for domestic competition, but they questioned the\n",
      "  wisdom of some of those moves.\n",
      "      \"They've made bold moves to put everything in place. Now\n",
      "  it's largely out of their hands,\" said Kleinwort Benson Ltd\n",
      "  financial analyst Simon Smithson.\n",
      "      Among Sumitomo's problems are limits placed on its move to\n",
      "  enter U.S. Securities business by taking a share in American\n",
      "  investment bank Goldman, Sachs and Co.\n",
      "      Sumitomo last August agreed to pay 500 mln dlrs for a 12.5\n",
      "  pct limited partnership in the bank, but for the time being at\n",
      "  least, the Federal Reserve Board has forbidden them to exchange\n",
      "  personnel, or increase the business they do with each other.\n",
      "      \"The tie-up is widely looked on as a lame duck because the\n",
      "  Fed was stricter than Sumitomo expected,\" said one analyst.\n",
      "      But Komatsu said the move will pay off in time.\n",
      "      \"U.S. Regulations will change in the near future and if so,\n",
      "  we can do various things. We only have to wait two or three\n",
      "  years, not until the 21st century,\" Komatsu said.\n",
      "      Komatsu is also willing to be patient about possible routes\n",
      "  into the securities business at home.\n",
      "      Article 65 of the Securities and Exchange Act, Japan's\n",
      "  version of the U.S. Glass-Steagall Act, separates commercial\n",
      "  from investment banking.\n",
      "      But the walls between the two are crumbling and Komatsu\n",
      "  said he hopes further deregulation will create new\n",
      "  opportunities.\n",
      "      \"We need to find new business chances,\" Komatsu said. \"In some\n",
      "  cases these will be securities related, in some cases trust\n",
      "  bank related. That's the kind of deregulation we want.\"\n",
      "      Until such changes occur, Sumitomo will focus on such\n",
      "  domestic securities business as profitable government bond\n",
      "  dealing and strengthening relations with Meiko Securities Co\n",
      "  Ltd, in which it holds a five pct share, Komatsu said.\n",
      "      He said Sumitomo is cautiously optimistic about entering\n",
      "  the securities business here through its Swiss universal bank\n",
      "  subsidiary, Banca del Gottardo.\n",
      "       The Finance Ministry is expected to grant licences to\n",
      "  securities subsidiaries of U.S. Commercial banks soon,\n",
      "  following a similar decision for subsidiaries of European\n",
      "  universal banks in which the parent holds a less than 50 pct.\n",
      "      But Komatsu is reluctant to push hard for a similar\n",
      "  decision on a Gottardo subsidiary.\n",
      "      \"We don't want to make waves. We expect this will be allowed\n",
      "  in two or three years,\" he said.\n",
      "      Like other city banks, Sumitomo is also pushing to expand\n",
      "  lending to individuals and small and medium businesses to\n",
      "  replace disappearing demand from big business, he added.\n",
      "      The analysts said Sumitomo will have to devote a lot of\n",
      "  time to digesting its most recent initiatives, including the\n",
      "  merger with ailing Heiwa Sogo.\n",
      "      \"It's (Sumitomo) been bold in its strategies,\" said\n",
      "  Kleinwort's Smithson.\n",
      "      \"After that, it's a question of absorbing and juggling\n",
      "  around. It will be the next decade before we see if the\n",
      "  strategy is right or wrong.\"\n",
      "  \n",
      "\n",
      "\n"
     ]
    }
   ],
   "source": [
    "def collection_stats():\n",
    "    # List of documents\n",
    "    documents = reuters.fileids()\n",
    "    print(str(len(documents)) + \" documents\");\n",
    " \n",
    "    train_docs = list(filter(lambda doc: doc.startswith(\"train\"), documents))\n",
    "    print(str(len(train_docs)) + \" total train documents\");\n",
    " \n",
    "    test_docs = list(filter(lambda doc: doc.startswith(\"test\"),\n",
    "                       documents));\n",
    "    print(str(len(test_docs)) + \" total test documents\");\n",
    " \n",
    "    # List of categories\n",
    "    categories = reuters.categories();\n",
    "    print(str(len(categories)) + \" categories\");\n",
    " \n",
    "    # Documents in a category\n",
    "    category_docs = reuters.fileids(\"acq\");\n",
    " \n",
    "    # Words for a document\n",
    "    document_id = category_docs[0]\n",
    "    document_words = reuters.words(category_docs[0]);\n",
    "    print(document_words);  \n",
    " \n",
    "    # Raw document\n",
    "    print(reuters.raw(document_id));\n",
    "collection_stats()"
   ]
  },
  {
   "cell_type": "code",
   "execution_count": 13,
   "metadata": {},
   "outputs": [
    {
     "ename": "NameError",
     "evalue": "name 'train_docs' is not defined",
     "output_type": "error",
     "traceback": [
      "\u001b[0;31m---------------------------------------------------------------------------\u001b[0m",
      "\u001b[0;31mNameError\u001b[0m                                 Traceback (most recent call last)",
      "\u001b[0;32m<ipython-input-13-9c2e68cdf2d7>\u001b[0m in \u001b[0;36m<module>\u001b[0;34m()\u001b[0m\n\u001b[0;32m----> 1\u001b[0;31m \u001b[0mtrain_docs\u001b[0m\u001b[0;34m\u001b[0m\u001b[0m\n\u001b[0m",
      "\u001b[0;31mNameError\u001b[0m: name 'train_docs' is not defined"
     ]
    }
   ],
   "source": [
    "train_docs"
   ]
  }
 ],
 "metadata": {
  "kernelspec": {
   "display_name": "Python 3",
   "language": "python",
   "name": "python3"
  },
  "language_info": {
   "codemirror_mode": {
    "name": "ipython",
    "version": 3
   },
   "file_extension": ".py",
   "mimetype": "text/x-python",
   "name": "python",
   "nbconvert_exporter": "python",
   "pygments_lexer": "ipython3",
   "version": "3.6.2"
  }
 },
 "nbformat": 4,
 "nbformat_minor": 2
}
